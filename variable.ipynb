{
 "cells": [
  {
   "cell_type": "code",
   "execution_count": 1,
   "id": "ba1115fa-5e67-426a-957f-8f93cc2cf86d",
   "metadata": {},
   "outputs": [],
   "source": [
    "a=1\n"
   ]
  },
  {
   "cell_type": "code",
   "execution_count": 2,
   "id": "5e8a7210-c0b0-42df-8a48-8e320e8471fb",
   "metadata": {},
   "outputs": [
    {
     "data": {
      "text/plain": [
       "int"
      ]
     },
     "execution_count": 2,
     "metadata": {},
     "output_type": "execute_result"
    }
   ],
   "source": [
    "type(a)"
   ]
  },
  {
   "cell_type": "code",
   "execution_count": 5,
   "id": "429204ff-da76-4619-b001-6accdca8d823",
   "metadata": {},
   "outputs": [],
   "source": [
    "c=45.78"
   ]
  },
  {
   "cell_type": "code",
   "execution_count": 6,
   "id": "571445ba-984e-4fb1-82d9-fdcd5965661f",
   "metadata": {},
   "outputs": [
    {
     "data": {
      "text/plain": [
       "float"
      ]
     },
     "execution_count": 6,
     "metadata": {},
     "output_type": "execute_result"
    }
   ],
   "source": [
    "type(c)"
   ]
  },
  {
   "cell_type": "code",
   "execution_count": 6,
   "id": "365bf78a-c598-412f-a599-210e53d21c59",
   "metadata": {},
   "outputs": [
    {
     "data": {
      "text/plain": [
       "float"
      ]
     },
     "execution_count": 6,
     "metadata": {},
     "output_type": "execute_result"
    }
   ],
   "source": [
    "type(c)"
   ]
  },
  {
   "cell_type": "code",
   "execution_count": 8,
   "id": "de0c5a1a-9557-460d-b7dc-1c61f9edf2af",
   "metadata": {},
   "outputs": [
    {
     "ename": "NameError",
     "evalue": "name 'true' is not defined",
     "output_type": "error",
     "traceback": [
      "\u001b[0;31m---------------------------------------------------------------------------\u001b[0m",
      "\u001b[0;31mNameError\u001b[0m                                 Traceback (most recent call last)",
      "Cell \u001b[0;32mIn[8], line 1\u001b[0m\n\u001b[0;32m----> 1\u001b[0m d\u001b[38;5;241m=\u001b[39m\u001b[43mtrue\u001b[49m\n\u001b[1;32m      2\u001b[0m \u001b[38;5;28mtype\u001b[39m(d)\n",
      "\u001b[0;31mNameError\u001b[0m: name 'true' is not defined"
     ]
    }
   ],
   "source": [
    "d=true\n",
    "type(d)"
   ]
  },
  {
   "cell_type": "code",
   "execution_count": 9,
   "id": "4ae54c42-b0a5-443b-a858-4ac1242238dc",
   "metadata": {},
   "outputs": [
    {
     "ename": "NameError",
     "evalue": "name 'false' is not defined",
     "output_type": "error",
     "traceback": [
      "\u001b[0;31m---------------------------------------------------------------------------\u001b[0m",
      "\u001b[0;31mNameError\u001b[0m                                 Traceback (most recent call last)",
      "Cell \u001b[0;32mIn[9], line 1\u001b[0m\n\u001b[0;32m----> 1\u001b[0m e\u001b[38;5;241m=\u001b[39m\u001b[43mfalse\u001b[49m\n\u001b[1;32m      2\u001b[0m \u001b[38;5;28mtype\u001b[39m(e)\n",
      "\u001b[0;31mNameError\u001b[0m: name 'false' is not defined"
     ]
    }
   ],
   "source": [
    "e=false\n",
    "type(e)\n"
   ]
  },
  {
   "cell_type": "raw",
   "id": "6ca12558-6fba-4bac-97d7-cf452e5b651b",
   "metadata": {},
   "source": [
    "true - false"
   ]
  },
  {
   "cell_type": "code",
   "execution_count": 12,
   "id": "60bba2a9-babb-4e59-b06d-bde5752b6e59",
   "metadata": {},
   "outputs": [
    {
     "data": {
      "text/plain": [
       "complex"
      ]
     },
     "execution_count": 12,
     "metadata": {},
     "output_type": "execute_result"
    }
   ],
   "source": [
    "f=5+4j\n",
    "type(f)"
   ]
  },
  {
   "cell_type": "code",
   "execution_count": 13,
   "id": "7a8310f4-4f1c-440b-af89-9fcc0457710a",
   "metadata": {},
   "outputs": [
    {
     "ename": "SyntaxError",
     "evalue": "cannot assign to literal here. Maybe you meant '==' instead of '='? (4179794336.py, line 1)",
     "output_type": "error",
     "traceback": [
      "\u001b[0;36m  Cell \u001b[0;32mIn[13], line 1\u001b[0;36m\u001b[0m\n\u001b[0;31m    9=7j\u001b[0m\n\u001b[0m    ^\u001b[0m\n\u001b[0;31mSyntaxError\u001b[0m\u001b[0;31m:\u001b[0m cannot assign to literal here. Maybe you meant '==' instead of '='?\n"
     ]
    }
   ],
   "source": [
    "9=7j\n",
    "type(9)\n"
   ]
  },
  {
   "cell_type": "code",
   "execution_count": 14,
   "id": "0a7e9a7d-3df6-4dc6-853d-f61697111d43",
   "metadata": {},
   "outputs": [
    {
     "data": {
      "text/plain": [
       "complex"
      ]
     },
     "execution_count": 14,
     "metadata": {},
     "output_type": "execute_result"
    }
   ],
   "source": [
    "g=7j\n",
    "type(g)"
   ]
  },
  {
   "cell_type": "code",
   "execution_count": 15,
   "id": "729c438d-2cab-4452-b5b6-4ccab1af41bd",
   "metadata": {},
   "outputs": [
    {
     "data": {
      "text/plain": [
       "complex"
      ]
     },
     "execution_count": 15,
     "metadata": {},
     "output_type": "execute_result"
    }
   ],
   "source": [
    "e=6+7j\n",
    "type(e)\n"
   ]
  },
  {
   "cell_type": "markdown",
   "id": "64e809d5-6290-4faf-891d-d033991950c7",
   "metadata": {},
   "source": [
    "##### 345=5"
   ]
  },
  {
   "cell_type": "markdown",
   "id": "4928d3f4-a73c-457a-a2dc-03a226a6ce08",
   "metadata": {},
   "source": [
    "##### 45gh =234"
   ]
  },
  {
   "cell_type": "code",
   "execution_count": 17,
   "id": "329d2815-abca-468f-a63b-c02b4fdf33bb",
   "metadata": {},
   "outputs": [],
   "source": [
    "#45=56\n",
    "\n"
   ]
  },
  {
   "cell_type": "code",
   "execution_count": 18,
   "id": "4ff92848-dec2-4a6a-88da-2b3dddf02a02",
   "metadata": {},
   "outputs": [
    {
     "ename": "SyntaxError",
     "evalue": "invalid syntax (224833510.py, line 1)",
     "output_type": "error",
     "traceback": [
      "\u001b[0;36m  Cell \u001b[0;32mIn[18], line 1\u001b[0;36m\u001b[0m\n\u001b[0;31m    $45= 45\u001b[0m\n\u001b[0m    ^\u001b[0m\n\u001b[0;31mSyntaxError\u001b[0m\u001b[0;31m:\u001b[0m invalid syntax\n"
     ]
    }
   ],
   "source": [
    "$45= 45"
   ]
  },
  {
   "cell_type": "code",
   "execution_count": 19,
   "id": "d472e4f8-2333-4ac4-bb85-f33db3820b42",
   "metadata": {},
   "outputs": [],
   "source": [
    "_a=67"
   ]
  },
  {
   "cell_type": "code",
   "execution_count": null,
   "id": "30b22236-2a00-4627-bf7a-311c70727448",
   "metadata": {},
   "outputs": [],
   "source": []
  },
  {
   "cell_type": "code",
   "execution_count": 20,
   "id": "bf3f991d-7fff-4ed0-9fd5-52b296e7e87f",
   "metadata": {},
   "outputs": [
    {
     "name": "stderr",
     "output_type": "stream",
     "text": [
      "UsageError: Line magic function `%a=45` not found.\n"
     ]
    }
   ],
   "source": [
    "%a=45"
   ]
  },
  {
   "cell_type": "code",
   "execution_count": 21,
   "id": "1e5ae0bb-d078-4301-872f-0b95b18906b0",
   "metadata": {},
   "outputs": [
    {
     "data": {
      "text/plain": [
       "67"
      ]
     },
     "execution_count": 21,
     "metadata": {},
     "output_type": "execute_result"
    }
   ],
   "source": [
    "_a"
   ]
  },
  {
   "cell_type": "code",
   "execution_count": 22,
   "id": "d4d701bb-d8bd-4e7a-9d56-f2ff5a3a6bdb",
   "metadata": {},
   "outputs": [
    {
     "data": {
      "text/plain": [
       "(6+7j)"
      ]
     },
     "execution_count": 22,
     "metadata": {},
     "output_type": "execute_result"
    }
   ],
   "source": [
    "e"
   ]
  },
  {
   "cell_type": "code",
   "execution_count": 23,
   "id": "e2fb9efe-7766-4367-a853-56a866d7e7fc",
   "metadata": {},
   "outputs": [
    {
     "data": {
      "text/plain": [
       "6.0"
      ]
     },
     "execution_count": 23,
     "metadata": {},
     "output_type": "execute_result"
    }
   ],
   "source": [
    "e.real\n",
    "\n"
   ]
  },
  {
   "cell_type": "raw",
   "id": "760a4d71-cc50-4f6a-85fb-60d1eab7a131",
   "metadata": {},
   "source": [
    "e.image"
   ]
  }
 ],
 "metadata": {
  "kernelspec": {
   "display_name": "Python 3 (ipykernel)",
   "language": "python",
   "name": "python3"
  },
  "language_info": {
   "codemirror_mode": {
    "name": "ipython",
    "version": 3
   },
   "file_extension": ".py",
   "mimetype": "text/x-python",
   "name": "python",
   "nbconvert_exporter": "python",
   "pygments_lexer": "ipython3",
   "version": "3.10.8"
  }
 },
 "nbformat": 4,
 "nbformat_minor": 5
}
